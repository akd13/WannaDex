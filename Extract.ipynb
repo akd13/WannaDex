{
 "cells": [
  {
   "cell_type": "markdown",
   "metadata": {},
   "source": [
    "# Process raw data"
   ]
  },
  {
   "cell_type": "code",
   "execution_count": 33,
   "metadata": {},
   "outputs": [],
   "source": [
    "filename = \"raw.txt\"\n",
    "file = open(filename, \"r\")\n",
    "column_ranges = list(range(1,42))"
   ]
  },
  {
   "cell_type": "code",
   "execution_count": 34,
   "metadata": {},
   "outputs": [],
   "source": [
    "all_rows = []\n",
    "for num in column_ranges:\n",
    "    i = 1\n",
    "    row = []\n",
    "    file = open(filename, \"r\")\n",
    "    for line in file:\n",
    "        if((i-num)%43==0):\n",
    "            row.append(line.replace('\\n',''))\n",
    "        i+=1\n",
    "    all_rows.append(row)\n",
    "    file.close()\n",
    "            "
   ]
  },
  {
   "cell_type": "code",
   "execution_count": 41,
   "metadata": {},
   "outputs": [
    {
     "name": "stdout",
     "output_type": "stream",
     "text": [
      "41\n"
     ]
    }
   ],
   "source": [
    "print(len(all_rows))"
   ]
  },
  {
   "cell_type": "markdown",
   "metadata": {},
   "source": [
    "#### In Excel, copy this csv file and paste it as transpose"
   ]
  },
  {
   "cell_type": "code",
   "execution_count": 48,
   "metadata": {},
   "outputs": [],
   "source": [
    "with open(\"company_data.csv\", \"a\") as fp:\n",
    "    wr = csv.writer(fp, dialect='excel')\n",
    "    for row in all_rows:\n",
    "        wr.writerow(row)"
   ]
  },
  {
   "cell_type": "markdown",
   "metadata": {},
   "source": []
  }
 ],
 "metadata": {
  "kernelspec": {
   "display_name": "Python 3",
   "language": "python",
   "name": "python3"
  },
  "language_info": {
   "codemirror_mode": {
    "name": "ipython",
    "version": 3
   },
   "file_extension": ".py",
   "mimetype": "text/x-python",
   "name": "python",
   "nbconvert_exporter": "python",
   "pygments_lexer": "ipython3",
   "version": "3.6.4"
  }
 },
 "nbformat": 4,
 "nbformat_minor": 2
}
